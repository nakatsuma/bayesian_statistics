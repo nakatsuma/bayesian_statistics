{
 "cells": [
  {
   "cell_type": "markdown",
   "id": "d8db978c-95df-45c4-b452-d383ac59e77a",
   "metadata": {},
   "source": [
    "### AR(1) Process\n",
    "---\n",
    "\n",
    "The AR(1) process:\n",
    "\n",
    "$$\n",
    " x_t = \\phi x_{t-1} + \\epsilon_t,\\quad \\epsilon_t\\sim\\mathrm{Normal}(0,\\sigma^2),\n",
    "$$\n",
    "\n",
    "is a type of time series model that is widely applied in economics, finance and other related fields.\n",
    "\n",
    "The AR(1) process is a Markov chain and its transition kernel is\n",
    "\n",
    "$$\n",
    " K(x_{t-1},x_t) = \\frac1{\\sqrt{2\\pi\\sigma^2}}\\exp\\left[-\\frac{(x_t-\\phi x_{t-1})^2}{2\\sigma^2}\\right].\n",
    "$$\n"
   ]
  },
  {
   "cell_type": "code",
   "execution_count": 1,
   "id": "9ad73700-4037-4aa6-a0b1-b59a95067347",
   "metadata": {},
   "outputs": [],
   "source": [
    "import ipywidgets as widgets\n",
    "import matplotlib.pyplot as plt\n",
    "import numpy as np\n",
    "import scipy.stats as st\n",
    "from IPython.display import display"
   ]
  },
  {
   "cell_type": "markdown",
   "id": "38f3540f-5bac-42fb-a11f-f3e72c2c5941",
   "metadata": {},
   "source": [
    "We suppose $\\phi=0.9$ and $\\sigma^2=1-\\phi^{2}=0.19$, which implies that the invariant distribution of the AR(1) process is the standard normal distribution $\\text{Normal}(0,1)$."
   ]
  },
  {
   "cell_type": "code",
   "execution_count": 2,
   "id": "94dd50cb-cb94-46e3-ab84-c84280ed1459",
   "metadata": {},
   "outputs": [],
   "source": [
    "phi = 0.9\n",
    "sigma = np.sqrt(1 - phi**2)"
   ]
  },
  {
   "cell_type": "markdown",
   "id": "9080bed5-8859-4ea1-a3e1-36b06d5772ac",
   "metadata": {},
   "source": [
    "The initial distribution is $x_0 \\sim \\mathrm{Uniform}\\left(-\\sqrt{3},\\sqrt{3}\\right)$."
   ]
  },
  {
   "cell_type": "code",
   "execution_count": 3,
   "id": "74ab0fda-4828-4e6d-879f-1d76612957b8",
   "metadata": {},
   "outputs": [],
   "source": [
    "rng = np.random.default_rng(seed=99)\n",
    "n = 1000000\n",
    "x0 = rng.uniform(low=-np.sqrt(3.0), high=np.sqrt(3.0), size=n)"
   ]
  },
  {
   "cell_type": "markdown",
   "id": "5dcfadce-8ff0-410c-b782-a0d7d62e6703",
   "metadata": {},
   "source": [
    "Then we generate random numbers from the AR(1) process."
   ]
  },
  {
   "cell_type": "code",
   "execution_count": 4,
   "id": "821d7528-d7dd-48d8-a2e9-c4998f6fd004",
   "metadata": {},
   "outputs": [],
   "source": [
    "m = 21\n",
    "x = np.zeros((m, n))\n",
    "x[0, :] = x0\n",
    "for t in range(1, m):\n",
    "    x[t, :] = phi * x[t-1, :] + rng.normal(scale=sigma, size=n)"
   ]
  },
  {
   "cell_type": "markdown",
   "id": "d7630c2a-b0bf-4d2a-9aff-54c56b078cae",
   "metadata": {},
   "source": [
    "The function `interactive_ar1_convergence` creates an interactive plot that demonstrates the convergence of an AR(1) process to its invariant density."
   ]
  },
  {
   "cell_type": "code",
   "execution_count": 5,
   "id": "01075fc3-8c1a-4934-a259-8aa8343d385e",
   "metadata": {},
   "outputs": [],
   "source": [
    "def interactive_ar1_convergence(full_ar1):\n",
    "    m = full_ar1.shape[0] - 1\n",
    "    t_slider = widgets.IntSlider(min=0, max=m, step=1, value=0, description='t:')\n",
    "    xgrid = np.linspace(-4.0, 4.0, 101)\n",
    "\n",
    "    def histogram_plot(t):\n",
    "        current_ar1 = full_ar1[t, :]\n",
    "        fig, ax = plt.subplots(figsize=(8, 6))\n",
    "        ax.hist(current_ar1, density=True, bins=51, histtype='step', label=f'Marginal Density (t={t})')\n",
    "        ax.plot(xgrid, st.norm.pdf(xgrid), label='Invariant Density')\n",
    "        ax.set_xlim(-4.0, 4.0)\n",
    "        ax.legend(loc='upper right', frameon=False)\n",
    "        ax.set_xlabel(f'AR(1) Process: $x_{{t}} = {phi:.3f} x_{{t-1}} + \\\\epsilon_{{t}},\\\\ \\\\epsilon_{{t}}\\\\sim\\\\text{{Normal}}(0,({sigma:.3f})^{2})$')\n",
    "        plt.show()\n",
    "\n",
    "    return widgets.interactive(histogram_plot, t=t_slider)"
   ]
  },
  {
   "cell_type": "code",
   "execution_count": 6,
   "id": "7a4aac4d-2e41-417b-b1f6-8b1e2a25622f",
   "metadata": {},
   "outputs": [
    {
     "data": {
      "application/vnd.jupyter.widget-view+json": {
       "model_id": "277845c84b724c09b788a5689b671ad5",
       "version_major": 2,
       "version_minor": 0
      },
      "text/plain": [
       "interactive(children=(IntSlider(value=0, description='t:', max=20), Output()), _dom_classes=('widget-interact'…"
      ]
     },
     "execution_count": 6,
     "metadata": {},
     "output_type": "execute_result"
    }
   ],
   "source": [
    "interactive_ar1_convergence(x)"
   ]
  }
 ],
 "metadata": {
  "kernelspec": {
   "display_name": "Python (Bayes)",
   "language": "python",
   "name": "bayes"
  },
  "language_info": {
   "codemirror_mode": {
    "name": "ipython",
    "version": 3
   },
   "file_extension": ".py",
   "mimetype": "text/x-python",
   "name": "python",
   "nbconvert_exporter": "python",
   "pygments_lexer": "ipython3",
   "version": "3.13.5"
  }
 },
 "nbformat": 4,
 "nbformat_minor": 5
}
