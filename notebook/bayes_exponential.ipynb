{
 "cells": [
  {
   "cell_type": "markdown",
   "id": "09846390-8268-49a5-860c-4933632a3f75",
   "metadata": {},
   "source": [
    "## Exponential Distribution\n",
    "---\n",
    "\n",
    "The p.d.f. of an <font color=red>exponential distribution</font> $\\mathrm{Exp}(\\lambda)$ is\n",
    "\n",
    "\\begin{align*}\n",
    "    & p(x|\\lambda) = \\lambda e^{-\\lambda x}, \\quad 0 < x < \\infty,\\quad \\lambda > 0, \\\\\n",
    "    & \\mathrm{E}[X] = \\frac1{\\lambda},\\quad \\mathrm{Var}[X] = \\frac1{\\lambda^{2}}.\n",
    "\\end{align*}\n",
    "\n",
    "The exponential distribution is used to model the length of duration.\n",
    "\n",
    "## Likelihood\n",
    "---\n",
    "\n",
    "Suppose we have the i.i.d. sample $D=(x_{1},\\dots,x_{n})$ from $\\mathrm{Exp}(\\lambda)$.\n",
    "\n",
    "The likelihood is\n",
    "\\begin{align*}\n",
    "    p(D|\\lambda) &= \\prod_{i=1}^{n}p(x_{i}|\\lambda) = \\prod_{i=1}^{n}\\lambda e^{-\\lambda x_{i}} \\\\\n",
    "                 &= \\lambda^{n}e^{-\\lambda\\sum_{i=1}^{n}x_{i}}.\n",
    "\\end{align*}\n",
    "\n",
    "## Derivation of the Posterior Distribution of $\\lambda$\n",
    "---\n",
    "\n",
    "We use the gamma distribution $\\mathrm{Gamma}(\\alpha_{0},\\beta_{0})$ as the prior of $\\lambda$.\n",
    "\n",
    "The posterior distribution of $\\lambda$ is derived as\n",
    "\n",
    "\\begin{align*}\n",
    "    p(\\lambda|D)\n",
    "    &\\propto p(D|\\lambda)p(\\lambda) \\\\\n",
    "    &\\propto \\lambda^{n}e^{-\\lambda\\sum_{i=1}^{n}x_{i}}\\times\\lambda^{\\alpha_{0}-1}e^{-\\beta_{0}\\lambda} \\\\\n",
    "    &\\propto \\lambda^{n+\\alpha_{0}-1}e^{-\\left(\\sum_{i=1}^{n}x_{i}+\\beta_{0}\\right)\\lambda} \\\\\n",
    "    &\\propto \\lambda^{\\alpha_{\\star}-1}e^{-\\beta_{\\star}\\lambda}, \\\\\n",
    "    \\alpha_{\\star} &= n + \\alpha_{0},\\quad \\beta_{\\star} = \\sum_{i=1}^{n}x_{i} + \\beta_{0},\n",
    "\\end{align*}\n",
    "\n",
    "which is the gamma distribution $\\mathrm{Gamma}(\\alpha_{\\star},\\beta_{\\star})$.\n"
   ]
  },
  {
   "cell_type": "code",
   "execution_count": 1,
   "id": "7427ea74-1f3e-4447-b6e1-7c24056fa470",
   "metadata": {},
   "outputs": [],
   "source": [
    "import ipywidgets as widgets\n",
    "import matplotlib.pyplot as plt\n",
    "import numpy as np\n",
    "import pandas as pd\n",
    "import scipy.optimize as opt\n",
    "import scipy.stats as st\n",
    "from IPython.display import display"
   ]
  },
  {
   "cell_type": "markdown",
   "id": "2cceee85-3752-4eff-8cbe-2a30f429e676",
   "metadata": {},
   "source": [
    "### HPDI of the gamma distribution"
   ]
  },
  {
   "cell_type": "code",
   "execution_count": 2,
   "id": "6e88d0e3-55c3-43c6-ad38-2931aa3fdaed",
   "metadata": {},
   "outputs": [],
   "source": [
    "def gamma_hpdi(prob, alpha, theta, ci0=None):\n",
    "    def hpdi_conditions(v, p, a, t):\n",
    "        eq1 = st.gamma.cdf(v[1], a, scale=t) - st.gamma.cdf(v[0], a, scale=t) - p\n",
    "        eq2 = st.gamma.pdf(v[1], a, scale=t) - st.gamma.pdf(v[0], a, scale=t)\n",
    "        return np.hstack((eq1, eq2))\n",
    "    if not ci0:\n",
    "        ci0 = st.gamma.interval(prob, alpha, scale=theta)\n",
    "    return opt.root(hpdi_conditions, ci0, args=(prob, alpha, theta)).x"
   ]
  },
  {
   "cell_type": "markdown",
   "id": "3fa03d3d-715a-4b31-99f5-bfb744d404ee",
   "metadata": {},
   "source": [
    "### Posterior statsistics of $\\lambda$"
   ]
  },
  {
   "cell_type": "code",
   "execution_count": 3,
   "id": "4354242f-e5a2-4be7-b0bc-9ab9ee93b482",
   "metadata": {},
   "outputs": [],
   "source": [
    "def exponential_stats(data, hyper_param, prob=0.95):\n",
    "    a0 = hyper_param['a0']\n",
    "    b0 = hyper_param['b0']\n",
    "    n = data.size\n",
    "    a_star = n + a0\n",
    "    b_star = data.sum() + b0\n",
    "    theta_star = 1.0 / b_star\n",
    "    mean_lam = st.gamma.mean(a_star, scale=theta_star)\n",
    "    median_lam = st.gamma.median(a_star, scale=theta_star)\n",
    "    mode_lam = (a_star - 1.0) * theta_star\n",
    "    sd_lam = st.gamma.std(a_star, scale=theta_star)\n",
    "    ci_lam = st.gamma.interval(prob, a_star, scale=theta_star)\n",
    "    hpdi_lam = gamma_hpdi(prob, a_star, theta_star)\n",
    "    stats = np.hstack((mean_lam, median_lam, mode_lam, sd_lam, ci_lam, hpdi_lam)).reshape((1, 8))\n",
    "    lower = 0.5 * (1.0 - prob) * 100.0\n",
    "    upper = 0.5 * (1.0 + prob) * 100.0\n",
    "    stats_string = ['mean', 'median', 'mode', 'sd',\n",
    "                    f'ci ({lower:4.1f}%)', f'ci ({upper:4.1f}%)',\n",
    "                    f'hpdi ({lower:4.1f}%)', f'hpdi ({upper:4.1f}%)']\n",
    "    param_string = ['$\\\\lambda$']\n",
    "    results = pd.DataFrame(stats, index=param_string, columns=stats_string)\n",
    "    return results"
   ]
  },
  {
   "cell_type": "markdown",
   "id": "113a248b-401d-499b-b10f-e36b05a10c3b",
   "metadata": {},
   "source": [
    "### Plotting the posterior distribution of $\\lambda$"
   ]
  },
  {
   "cell_type": "code",
   "execution_count": 4,
   "id": "58fc9f81-8926-4b78-ae54-d577db6fa0ed",
   "metadata": {},
   "outputs": [],
   "source": [
    "def interactive_exponential_posterior_plot(data, hyper_param, bounds):\n",
    "    a_slider = widgets.FloatLogSlider(min=-2.0, max=2.0, step=0.1, value=hyper_param['a0'], description='$\\\\alpha_{0}$:')\n",
    "    b_slider = widgets.FloatLogSlider(min=-2.0, max=2.0, step=0.1, value=hyper_param['b0'], description='$\\\\beta_{0}$:')\n",
    "    l = np.linspace(bounds[0], bounds[1], 1001)\n",
    "\n",
    "    def exponential_posterior_plot(a0, b0):\n",
    "        y = np.sum(data)\n",
    "        a_star = data.size + a0\n",
    "        b_star = y + b0\n",
    "        prior_pdf = st.gamma.pdf(l, a0, scale=1.0/b0)\n",
    "        posterior_pdf = st.gamma.pdf(l, a_star, scale=1.0/b_star)\n",
    "        plt.figure(figsize=(8, 6))\n",
    "        plt.plot(l, prior_pdf, label=f'Prior: Gamma({a0:.2f}, {b0:.2f})')\n",
    "        plt.plot(l, posterior_pdf, label=f'Posterior: Gamma({a_star:.2f}, {b_star:.2f})')\n",
    "        plt.xlabel('$\\\\lambda$')\n",
    "        plt.ylabel('Probability Density')\n",
    "        plt.title('Posterior Distribution for Exponential Distribution')\n",
    "        plt.xlim(bounds)\n",
    "        plt.ylim(0.0, 1.1 * np.max(posterior_pdf) if np.max(posterior_pdf) > 0 else 1.0)\n",
    "        plt.legend(loc='best')\n",
    "        plt.show()\n",
    "\n",
    "    return widgets.interactive(exponential_posterior_plot, a0=a_slider, b0=b_slider)"
   ]
  },
  {
   "cell_type": "markdown",
   "id": "5b1ecc80-c187-47fc-af66-8d5fbffa7dde",
   "metadata": {},
   "source": [
    "## Application 1: Simulated Data\n",
    "---\n",
    "\n",
    "We use artificial data generated from the exponential distribution:\n",
    "\n",
    "$$\n",
    " x_1,\\dots,x_{50} \\sim \\mathrm{Exp}(3).\n",
    "$$\n",
    "\n",
    "The prior distribution of $\\lambda$ is $\\mathrm{Gamma}(1,1)$, which is equivalent to the exponential distribution:\n",
    "\n",
    "$$\n",
    " p(\\lambda) = e^{-\\lambda},\\quad \\lambda > 0.\n",
    "$$\n"
   ]
  },
  {
   "cell_type": "code",
   "execution_count": 5,
   "id": "c50ec64f-1ebb-4825-b85f-e1cca77a5015",
   "metadata": {},
   "outputs": [
    {
     "data": {
      "text/html": [
       "<div>\n",
       "<style scoped>\n",
       "    .dataframe tbody tr th:only-of-type {\n",
       "        vertical-align: middle;\n",
       "    }\n",
       "\n",
       "    .dataframe tbody tr th {\n",
       "        vertical-align: top;\n",
       "    }\n",
       "\n",
       "    .dataframe thead th {\n",
       "        text-align: right;\n",
       "    }\n",
       "</style>\n",
       "<table border=\"1\" class=\"dataframe\">\n",
       "  <thead>\n",
       "    <tr style=\"text-align: right;\">\n",
       "      <th></th>\n",
       "      <th>mean</th>\n",
       "      <th>median</th>\n",
       "      <th>mode</th>\n",
       "      <th>sd</th>\n",
       "      <th>ci ( 2.5%)</th>\n",
       "      <th>ci (97.5%)</th>\n",
       "      <th>hpdi ( 2.5%)</th>\n",
       "      <th>hpdi (97.5%)</th>\n",
       "    </tr>\n",
       "  </thead>\n",
       "  <tbody>\n",
       "    <tr>\n",
       "      <th>$\\lambda$</th>\n",
       "      <td>3.072358</td>\n",
       "      <td>3.052301</td>\n",
       "      <td>3.012116</td>\n",
       "      <td>0.430216</td>\n",
       "      <td>2.287573</td>\n",
       "      <td>3.9711</td>\n",
       "      <td>2.251364</td>\n",
       "      <td>3.927529</td>\n",
       "    </tr>\n",
       "  </tbody>\n",
       "</table>\n",
       "</div>"
      ],
      "text/plain": [
       "               mean    median      mode        sd  ci ( 2.5%)  ci (97.5%)  \\\n",
       "$\\lambda$  3.072358  3.052301  3.012116  0.430216    2.287573      3.9711   \n",
       "\n",
       "           hpdi ( 2.5%)  hpdi (97.5%)  \n",
       "$\\lambda$      2.251364      3.927529  "
      ]
     },
     "metadata": {},
     "output_type": "display_data"
    }
   ],
   "source": [
    "rng = np.random.default_rng(seed=99)\n",
    "lam, n = 3.0, 50\n",
    "data = rng.exponential(scale=1.0/lam, size=n)\n",
    "hyper_param = dict(\n",
    "    a0 = 1.0,\n",
    "    b0 = 1.0\n",
    ")\n",
    "results = exponential_stats(data, hyper_param)\n",
    "display(results)"
   ]
  },
  {
   "cell_type": "code",
   "execution_count": 6,
   "id": "c58f935b-ab13-41eb-9c69-4715c8bb171d",
   "metadata": {},
   "outputs": [
    {
     "data": {
      "application/vnd.jupyter.widget-view+json": {
       "model_id": "4b5bc34773774a45a8767c950beb3fbf",
       "version_major": 2,
       "version_minor": 0
      },
      "text/plain": [
       "interactive(children=(FloatLogSlider(value=1.0, description='$\\\\alpha_{0}$:', max=2.0, min=-2.0), FloatLogSlid…"
      ]
     },
     "execution_count": 6,
     "metadata": {},
     "output_type": "execute_result"
    }
   ],
   "source": [
    "interactive_exponential_posterior_plot(data, hyper_param, (0.0, 6.0))"
   ]
  },
  {
   "cell_type": "markdown",
   "id": "b692a703-88fa-421d-b9b5-87536951761e",
   "metadata": {},
   "source": [
    "## Application2: Strikes Duration Data\n",
    "---\n",
    "\n",
    "+ a cross-section from 1968 to 1976\n",
    "+ number of observations : 566\n",
    "+ country : United States\n",
    "\n",
    "### Variables:\n",
    "\n",
    "+ dur - duration of the strike in days\n",
    "\n",
    "+ gdp - measure of stage of business cycle (deviation of monthly log industrial production in manufacturing from prediction from OLS on time, time-squared and monthly dummies)\n",
    "\n",
    "### Source:\n",
    "\n",
    "Kennan, J. (1985) “The Duration of Contract strikes in U.S. Manufacturing”, Journal of Econometrics, 28, 5-28.\n",
    "\n",
    "### Reference:\n",
    "\n",
    "Cameron, A.C. and P.K. Trivedi (2005) Microeconometrics : methods and applications, Cambridge, pp. 574–5 and 582.\n",
    "\n",
    "https://vincentarelbundock.github.io/Rdatasets/datasets.html\n"
   ]
  },
  {
   "cell_type": "code",
   "execution_count": 7,
   "id": "b3c41e2a-ee75-4e43-a87b-3366154d60f6",
   "metadata": {},
   "outputs": [
    {
     "data": {
      "image/png": "[encoded data removed]",
      "text/plain": [
       "<Figure size 800x600 with 1 Axes>"
      ]
     },
     "metadata": {},
     "output_type": "display_data"
    }
   ],
   "source": [
    "strikes_data = pd.read_csv('StrikeDur.csv', index_col=0)\n",
    "strikes_duration = strikes_data['dur'].values\n",
    "bin_max = np.max(strikes_duration)\n",
    "hist, bins = np.histogram(strikes_duration, bins=np.linspace(1, bin_max, bin_max))\n",
    "plt.figure(figsize=(8, 6))\n",
    "plt.bar(bins[:-1], hist)\n",
    "plt.xlabel('Duration of Strikes (Days)')\n",
    "plt.ylabel('Frequency')\n",
    "plt.show()"
   ]
  },
  {
   "cell_type": "code",
   "execution_count": 8,
   "id": "de51efe0-cb03-4c1e-8fdf-8f9118c08164",
   "metadata": {},
   "outputs": [
    {
     "data": {
      "text/html": [
       "<div>\n",
       "<style scoped>\n",
       "    .dataframe tbody tr th:only-of-type {\n",
       "        vertical-align: middle;\n",
       "    }\n",
       "\n",
       "    .dataframe tbody tr th {\n",
       "        vertical-align: top;\n",
       "    }\n",
       "\n",
       "    .dataframe thead th {\n",
       "        text-align: right;\n",
       "    }\n",
       "</style>\n",
       "<table border=\"1\" class=\"dataframe\">\n",
       "  <thead>\n",
       "    <tr style=\"text-align: right;\">\n",
       "      <th></th>\n",
       "      <th>mean</th>\n",
       "      <th>median</th>\n",
       "      <th>mode</th>\n",
       "      <th>sd</th>\n",
       "      <th>ci ( 2.5%)</th>\n",
       "      <th>ci (97.5%)</th>\n",
       "      <th>hpdi ( 2.5%)</th>\n",
       "      <th>hpdi (97.5%)</th>\n",
       "    </tr>\n",
       "  </thead>\n",
       "  <tbody>\n",
       "    <tr>\n",
       "      <th>$\\lambda$</th>\n",
       "      <td>0.022963</td>\n",
       "      <td>0.022949</td>\n",
       "      <td>0.022922</td>\n",
       "      <td>0.000964</td>\n",
       "      <td>0.021111</td>\n",
       "      <td>0.024891</td>\n",
       "      <td>0.021085</td>\n",
       "      <td>0.024863</td>\n",
       "    </tr>\n",
       "  </tbody>\n",
       "</table>\n",
       "</div>"
      ],
      "text/plain": [
       "               mean    median      mode        sd  ci ( 2.5%)  ci (97.5%)  \\\n",
       "$\\lambda$  0.022963  0.022949  0.022922  0.000964    0.021111    0.024891   \n",
       "\n",
       "           hpdi ( 2.5%)  hpdi (97.5%)  \n",
       "$\\lambda$      0.021085      0.024863  "
      ]
     },
     "metadata": {},
     "output_type": "display_data"
    }
   ],
   "source": [
    "hyper_param_strikes = dict(\n",
    "    a0 = 1.0,\n",
    "    b0 = 1.0\n",
    ")\n",
    "results_strikes = exponential_stats(strikes_duration, hyper_param_strikes)\n",
    "display(results_strikes)"
   ]
  },
  {
   "cell_type": "code",
   "execution_count": 9,
   "id": "3080513f-bac6-41f8-a1d5-561f12c953a6",
   "metadata": {},
   "outputs": [
    {
     "data": {
      "application/vnd.jupyter.widget-view+json": {
       "model_id": "3e45bf097ded477782a955d742328359",
       "version_major": 2,
       "version_minor": 0
      },
      "text/plain": [
       "interactive(children=(FloatLogSlider(value=1.0, description='$\\\\alpha_{0}$:', max=2.0, min=-2.0), FloatLogSlid…"
      ]
     },
     "execution_count": 9,
     "metadata": {},
     "output_type": "execute_result"
    }
   ],
   "source": [
    "interactive_exponential_posterior_plot(strikes_duration, hyper_param_strikes, (0.0, 0.04))"
   ]
  }
 ],
 "metadata": {
  "kernelspec": {
   "display_name": "Python (Bayes)",
   "language": "python",
   "name": "bayes"
  },
  "language_info": {
   "codemirror_mode": {
    "name": "ipython",
    "version": 3
   },
   "file_extension": ".py",
   "mimetype": "text/x-python",
   "name": "python",
   "nbconvert_exporter": "python",
   "pygments_lexer": "ipython3",
   "version": "3.13.5"
  }
 },
 "nbformat": 4,
 "nbformat_minor": 5
}
